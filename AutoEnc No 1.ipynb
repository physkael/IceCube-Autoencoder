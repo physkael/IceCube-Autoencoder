{
 "cells": [
  {
   "cell_type": "markdown",
   "metadata": {},
   "source": [
    "# SQL Database Reads\n",
    "\n",
    "&copy; 2020 Kael HANSON (mailto:kael.hanson@icecube.wisc.edu)\n",
    "\n",
    "I re-purposed an older script I had to skim out event and hit information from `.i3` files and put them into an SQL database in the tables\n",
    "\n",
    "`events (id INTEGER PRIMARY KEY, file_id INTEGER, run_id INTEGER, evt_id INTEGER)`\n",
    "\n",
    "and \n",
    "\n",
    "`hits (string INTEGER, module INTEGER, time REAL, charge REAL, event_id INTEGER)`\n",
    "\n",
    "where `event_id` points back to the PRIMARY KEY `id` in `events`.\n",
    "\n",
    "Somehow this seemed easier than writing another script to extract numpy arrays. But now of course I need to get the data out of the SQL database and into numpy arrays. This is how it's done."
   ]
  },
  {
   "cell_type": "code",
   "execution_count": 1,
   "metadata": {},
   "outputs": [],
   "source": [
    "import numpy as np\n",
    "import matplotlib.pyplot as plt\n",
    "import sqlite3\n",
    "import random"
   ]
  },
  {
   "cell_type": "markdown",
   "metadata": {},
   "source": [
    "Here are some classes to make this look more like Python and less like SQL."
   ]
  },
  {
   "cell_type": "code",
   "execution_count": 2,
   "metadata": {},
   "outputs": [],
   "source": [
    "class OMKey:\n",
    "    def __init__(self, string, module):\n",
    "        self.string = string\n",
    "        self.module = module\n",
    "        \n",
    "    def __repr__(self):\n",
    "        return f'({self.string:02d},{self.module:02d})'\n",
    "\n",
    "    def __eq__(self, other):\n",
    "        if self.string == other.string and self.module == other.module: return True\n",
    "        return False\n",
    "\n",
    "class hit:\n",
    "    def __init__(self, omkey, time, charge):\n",
    "        self.omkey  = omkey\n",
    "        self.time   = time\n",
    "        self.charge = charge\n",
    "        \n",
    "    def __repr__(self):\n",
    "        return str(self.omkey) + \" \" + f'time:{self.time:7.1f}, charge:{self.charge:6.2f}'\n",
    "\n",
    "class event:\n",
    "    def __init__(self, event_id, run_id):\n",
    "        self.event_id = event_id\n",
    "        self.run_id = run_id\n",
    "        self.hits   = []\n",
    "\n",
    "class I3EventDB:\n",
    "    def __init__(self, filename):\n",
    "        self.conn = sqlite3.connect(filename)\n",
    "\n",
    "    def get_hits(self, evt_id):\n",
    "        c = self.conn.cursor()\n",
    "        query = \"\"\"\n",
    "        SELECT string, module, time, charge \n",
    "        FROM hits JOIN events ON events.id=hits.event_id \n",
    "        WHERE evt_id=:evt_id            \n",
    "        \"\"\"\n",
    "        hits = []\n",
    "        for row in c.execute(query, { \"evt_id\": evt_id }):\n",
    "            hits.append(hit(OMKey(row[0], row[1]), row[2], row[3]))\n",
    "        return hits"
   ]
  },
  {
   "cell_type": "markdown",
   "metadata": {},
   "source": [
    "I couldn't think immediately how to best iterate on hits without explicitly iterating over events first. So first, open the database and get the list of event IDs for later use. The file `events-132694.db` contains MinBias filter events from run 132694 subruns 130-139. (About 30 minutes of live time). There are about 3500 events in this time span. I think the pre-scale factor is 1:2000 (every 2000th event that is readout by the IceCube DAQ is recorded even if it doesn't pass one of the _this physics is interesting_ filters."
   ]
  },
  {
   "cell_type": "code",
   "execution_count": 3,
   "metadata": {},
   "outputs": [
    {
     "data": {
      "text/plain": [
       "3476"
      ]
     },
     "execution_count": 3,
     "metadata": {},
     "output_type": "execute_result"
    }
   ],
   "source": [
    "conn = sqlite3.connect(\"data/events-132964.db\")\n",
    "c = conn.cursor()\n",
    "event_ids = [row[0] for row in c.execute(\"SELECT evt_id FROM events\")]\n",
    "len(event_ids)"
   ]
  },
  {
   "cell_type": "code",
   "execution_count": 4,
   "metadata": {},
   "outputs": [],
   "source": [
    "db = I3EventDB('data/events-132964.db')"
   ]
  },
  {
   "cell_type": "code",
   "execution_count": 5,
   "metadata": {},
   "outputs": [
    {
     "data": {
      "text/plain": [
       "Text(0, 0.5, 'Frequency (a.u.)')"
      ]
     },
     "execution_count": 5,
     "metadata": {},
     "output_type": "execute_result"
    },
    {
     "data": {
      "image/png": "[encoded data removed]",
      "text/plain": [
       "<Figure size 288x288 with 1 Axes>"
      ]
     },
     "metadata": {
      "needs_background": "light"
     },
     "output_type": "display_data"
    }
   ],
   "source": [
    "times = [row[0] for row in db.conn.execute(\"SELECT time FROM hits\")]\n",
    "fig = plt.figure(figsize=(4,4))\n",
    "x = plt.hist(times, bins=np.arange(5000, 25000, 25))\n",
    "plt.grid()\n",
    "plt.axis((9500, 10000, 0, 5000))\n",
    "plt.xlabel('Time (ns)')\n",
    "plt.ylabel('Frequency (a.u.)')"
   ]
  },
  {
   "cell_type": "markdown",
   "metadata": {},
   "source": [
    "Define a function to make 2d images from the hit lists. After some thought I have decided to go with a very basic translation from hits to 2d images in (z, t) - space: the triggered (i.e. not noise) hits occur after about 9800 ns (see histo above) and, as muons move through ~ $\\sqrt{3}$ km - the max edge-to-edge distance in IceCube - it can take up to 5 us so this determines the time span of the arrays. Selecting $dt$ is a judgement call: IceCube time resolution is O(1) ns but scattering in the ice really washes this out so my guess is that 50 ns is OK. I tried 25 ns originally but then the time axis got pretty big and the network was really having a hard time reconstructing the information. "
   ]
  },
  {
   "cell_type": "code",
   "execution_count": 6,
   "metadata": {},
   "outputs": [],
   "source": [
    "def hits_to_array(hits, t0=9750.0, nt=200, dt=25.0):\n",
    "    arr = np.zeros((86,60, nt), dtype='d')\n",
    "    for h in hits:\n",
    "        istr = h.omkey.string - 1\n",
    "        irow = h.omkey.module - 1\n",
    "        icol = int((h.time - t0) / dt)\n",
    "        if irow < 60 and 0 < icol < nt: arr[istr,irow,icol] = h.charge\n",
    "    return arr"
   ]
  },
  {
   "cell_type": "code",
   "execution_count": 31,
   "metadata": {},
   "outputs": [],
   "source": [
    "Aevt = hits_to_array(db.get_hits(event_ids[18]), t0=9750., nt=50, dt=50)"
   ]
  },
  {
   "cell_type": "code",
   "execution_count": 32,
   "metadata": {},
   "outputs": [
    {
     "name": "stdout",
     "output_type": "stream",
     "text": [
      "String: 5 Qtot:0.3\n",
      "String:15 Qtot:1.5\n",
      "String:22 Qtot:2.3\n",
      "String:23 Qtot:13.7\n",
      "String:24 Qtot:0.9\n",
      "String:25 Qtot:0.4\n",
      "String:31 Qtot:16.8\n",
      "String:32 Qtot:1.5\n",
      "String:33 Qtot:1.0\n",
      "String:37 Qtot:1.4\n",
      "String:41 Qtot:0.4\n",
      "String:80 Qtot:1.4\n",
      "String:85 Qtot:0.7\n"
     ]
    }
   ],
   "source": [
    "for istr, q_tot in enumerate(np.sum(Aevt, axis=(1,2))):\n",
    "    if q_tot > 0: print(f\"String:{istr+1:2d} Qtot:{q_tot:.1f}\")"
   ]
  },
  {
   "cell_type": "code",
   "execution_count": 38,
   "metadata": {},
   "outputs": [
    {
     "data": {
      "text/plain": [
       "<matplotlib.colorbar.Colorbar at 0x2a09fcf7c48>"
      ]
     },
     "execution_count": 38,
     "metadata": {},
     "output_type": "execute_result"
    },
    {
     "data": {
      "image/png": "[encoded data removed]",
      "text/plain": [
       "<Figure size 360x432 with 2 Axes>"
      ]
     },
     "metadata": {
      "needs_background": "light"
     },
     "output_type": "display_data"
    }
   ],
   "source": [
    "fig = plt.figure(figsize=(5, 6))\n",
    "plt.imshow(Aevt[22,:,:], cmap='binary', extent=(0, 2500, 60, 0), aspect='auto')\n",
    "plt.grid()\n",
    "plt.xlabel('Time (ns)')\n",
    "plt.ylabel('DOM No on String')\n",
    "plt.colorbar()"
   ]
  },
  {
   "cell_type": "markdown",
   "metadata": {},
   "source": [
    "The image above is the image that we are going to get the neural network to try to learn how to reconstruct using the autoencoder technique. The hits in this case were distributed near the bottom of the IceCube string (DOM #1 is about 1450 m deep below the surface of the South Pole and DOM #60 is at the bottom about 2450 m deep). \n",
    "\n",
    "The intensity of the hit is the charge in units of photoelectrons (p.e.): 1 p.e. corresponds to 1 photon hitting the photomultiplier's photocathode.\n",
    "\n",
    "Get some reasonably large number of images for a test training. The reason that I have the if q_tot > 10 line is to enrich the training patterns with events that have a reasonably large number of hits on a string. The vast majority of images have a single hit."
   ]
  },
  {
   "cell_type": "code",
   "execution_count": 42,
   "metadata": {},
   "outputs": [],
   "source": [
    "NT = 60\n",
    "training_patterns = np.zeros((2500,60,NT,1),'d')\n",
    "n = 0\n",
    "i = 0\n",
    "while True:\n",
    "    Aevt = hits_to_array(db.get_hits(event_ids[i]), t0=9750., nt=NT, dt=50)\n",
    "    for istr, q_tot in enumerate(np.sum(Aevt[:80], axis=(1,2))):\n",
    "        if q_tot > 0: \n",
    "            if q_tot > 10 or random.uniform(0, 1) < 0.05:\n",
    "                training_patterns[n] = Aevt[istr].reshape(60, NT, 1)\n",
    "                n += 1\n",
    "                if n == 2500: break\n",
    "    i += 1\n",
    "    if n == 2500: break"
   ]
  },
  {
   "cell_type": "code",
   "execution_count": 43,
   "metadata": {},
   "outputs": [
    {
     "data": {
      "text/plain": [
       "(2500, 60, 60, 1)"
      ]
     },
     "execution_count": 43,
     "metadata": {},
     "output_type": "execute_result"
    }
   ],
   "source": [
    "training_patterns.shape"
   ]
  },
  {
   "cell_type": "code",
   "execution_count": 44,
   "metadata": {},
   "outputs": [
    {
     "data": {
      "text/plain": [
       "array([11.9620335 ,  0.95796722,  4.62596428,  9.69452602, 17.32237162,\n",
       "       33.32375428, 17.12109242, 15.43277808,  0.7720629 , 12.82076067,\n",
       "        0.6202032 ,  8.870188  ,  4.4092319 ,  0.84006971,  0.45390761,\n",
       "       17.19021247, 16.85645455,  1.6610893 , 13.1737735 , 16.18628043,\n",
       "        1.42462167,  1.14375851,  1.02763176,  1.04889381,  1.26315534])"
      ]
     },
     "execution_count": 44,
     "metadata": {},
     "output_type": "execute_result"
    }
   ],
   "source": [
    "np.sum(training_patterns[100:125],axis=(1,2,3))"
   ]
  },
  {
   "cell_type": "markdown",
   "metadata": {},
   "source": [
    "## On to the Autoencoder"
   ]
  },
  {
   "cell_type": "code",
   "execution_count": 14,
   "metadata": {},
   "outputs": [],
   "source": [
    "import tensorflow as tf\n",
    "from tensorflow import keras\n",
    "from tensorflow.keras import layers"
   ]
  },
  {
   "cell_type": "code",
   "execution_count": 45,
   "metadata": {},
   "outputs": [],
   "source": [
    "ae_model = keras.models.Sequential([\n",
    "    layers.Conv2D(filters=8, kernel_size=(5, 5), activation='relu', input_shape=(60, NT, 1)),\n",
    "    layers.MaxPool2D(pool_size=(2, 2)),\n",
    "    layers.Flatten(),\n",
    "    layers.Dense(100, activation='relu'),\n",
    "    layers.Dense(100, activation='relu'),\n",
    "    layers.Dense(60*NT, activation='sigmoid'),\n",
    "    layers.Reshape(target_shape=(60,NT))\n",
    "])"
   ]
  },
  {
   "cell_type": "code",
   "execution_count": 46,
   "metadata": {},
   "outputs": [],
   "source": [
    "ae_model.compile(optimizer=keras.optimizers.Adam(learning_rate=2.5E-5), \n",
    "                loss=keras.losses.Poisson(),\n",
    "                metrics=['mse', 'poisson'])"
   ]
  },
  {
   "cell_type": "code",
   "execution_count": 47,
   "metadata": {},
   "outputs": [
    {
     "name": "stdout",
     "output_type": "stream",
     "text": [
      "Model: \"sequential_2\"\n",
      "_________________________________________________________________\n",
      "Layer (type)                 Output Shape              Param #   \n",
      "=================================================================\n",
      "conv2d_2 (Conv2D)            (None, 56, 56, 8)         208       \n",
      "_________________________________________________________________\n",
      "max_pooling2d_2 (MaxPooling2 (None, 28, 28, 8)         0         \n",
      "_________________________________________________________________\n",
      "flatten_2 (Flatten)          (None, 6272)              0         \n",
      "_________________________________________________________________\n",
      "dense_6 (Dense)              (None, 100)               627300    \n",
      "_________________________________________________________________\n",
      "dense_7 (Dense)              (None, 100)               10100     \n",
      "_________________________________________________________________\n",
      "dense_8 (Dense)              (None, 3600)              363600    \n",
      "_________________________________________________________________\n",
      "reshape_2 (Reshape)          (None, 60, 60)            0         \n",
      "=================================================================\n",
      "Total params: 1,001,208\n",
      "Trainable params: 1,001,208\n",
      "Non-trainable params: 0\n",
      "_________________________________________________________________\n"
     ]
    }
   ],
   "source": [
    "ae_model.summary()"
   ]
  },
  {
   "cell_type": "code",
   "execution_count": 48,
   "metadata": {},
   "outputs": [
    {
     "name": "stdout",
     "output_type": "stream",
     "text": [
      "Train on 2250 samples, validate on 250 samples\n",
      "Epoch 1/50\n",
      "2250/2250 [==============================] - 5s 2ms/sample - loss: 0.2795 - mse: 0.1221 - poisson: 0.2795 - val_loss: 0.0265 - val_mse: 0.0039 - val_poisson: 0.0265\n",
      "Epoch 2/50\n",
      "2250/2250 [==============================] - 3s 1ms/sample - loss: 0.0219 - mse: 0.0061 - poisson: 0.0219 - val_loss: 0.0200 - val_mse: 0.0036 - val_poisson: 0.0200\n",
      "Epoch 3/50\n",
      "2250/2250 [==============================] - 3s 1ms/sample - loss: 0.0199 - mse: 0.0060 - poisson: 0.0199 - val_loss: 0.0194 - val_mse: 0.0036 - val_poisson: 0.0194\n",
      "Epoch 4/50\n",
      "2250/2250 [==============================] - 3s 1ms/sample - loss: 0.0192 - mse: 0.0060 - poisson: 0.0192 - val_loss: 0.0190 - val_mse: 0.0036 - val_poisson: 0.0190\n",
      "Epoch 5/50\n",
      "2250/2250 [==============================] - 3s 1ms/sample - loss: 0.0186 - mse: 0.0060 - poisson: 0.0186 - val_loss: 0.0186 - val_mse: 0.0036 - val_poisson: 0.0186\n",
      "Epoch 6/50\n",
      "2250/2250 [==============================] - 3s 1ms/sample - loss: 0.0181 - mse: 0.0060 - poisson: 0.0181 - val_loss: 0.0182 - val_mse: 0.0036 - val_poisson: 0.0182\n",
      "Epoch 7/50\n",
      "2250/2250 [==============================] - 3s 1ms/sample - loss: 0.0176 - mse: 0.0060 - poisson: 0.0176 - val_loss: 0.0179 - val_mse: 0.0036 - val_poisson: 0.0179\n",
      "Epoch 8/50\n",
      "2250/2250 [==============================] - 3s 1ms/sample - loss: 0.0172 - mse: 0.0060 - poisson: 0.0172 - val_loss: 0.0176 - val_mse: 0.0036 - val_poisson: 0.0176\n",
      "Epoch 9/50\n",
      "2250/2250 [==============================] - 3s 1ms/sample - loss: 0.0169 - mse: 0.0060 - poisson: 0.0169 - val_loss: 0.0173 - val_mse: 0.0036 - val_poisson: 0.0173\n",
      "Epoch 10/50\n",
      "2250/2250 [==============================] - 3s 1ms/sample - loss: 0.0166 - mse: 0.0060 - poisson: 0.0166 - val_loss: 0.0171 - val_mse: 0.0036 - val_poisson: 0.0171\n",
      "Epoch 11/50\n",
      "2250/2250 [==============================] - 3s 1ms/sample - loss: 0.0164 - mse: 0.0060 - poisson: 0.0164 - val_loss: 0.0169 - val_mse: 0.0036 - val_poisson: 0.0169\n",
      "Epoch 12/50\n",
      "2250/2250 [==============================] - 3s 1ms/sample - loss: 0.0161 - mse: 0.0060 - poisson: 0.0161 - val_loss: 0.0168 - val_mse: 0.0036 - val_poisson: 0.0168\n",
      "Epoch 13/50\n",
      "2250/2250 [==============================] - 3s 1ms/sample - loss: 0.0159 - mse: 0.0060 - poisson: 0.0159 - val_loss: 0.0166 - val_mse: 0.0036 - val_poisson: 0.0166\n",
      "Epoch 14/50\n",
      "2250/2250 [==============================] - 3s 1ms/sample - loss: 0.0158 - mse: 0.0060 - poisson: 0.0158 - val_loss: 0.0165 - val_mse: 0.0036 - val_poisson: 0.0165\n",
      "Epoch 15/50\n",
      "2250/2250 [==============================] - 3s 1ms/sample - loss: 0.0156 - mse: 0.0060 - poisson: 0.0156 - val_loss: 0.0164 - val_mse: 0.0036 - val_poisson: 0.0164\n",
      "Epoch 16/50\n",
      "2250/2250 [==============================] - 3s 1ms/sample - loss: 0.0155 - mse: 0.0060 - poisson: 0.0155 - val_loss: 0.0163 - val_mse: 0.0036 - val_poisson: 0.0163\n",
      "Epoch 17/50\n",
      "2250/2250 [==============================] - 3s 1ms/sample - loss: 0.0154 - mse: 0.0060 - poisson: 0.0154 - val_loss: 0.0162 - val_mse: 0.0036 - val_poisson: 0.0162\n",
      "Epoch 18/50\n",
      "2250/2250 [==============================] - 3s 1ms/sample - loss: 0.0153 - mse: 0.0060 - poisson: 0.0153 - val_loss: 0.0162 - val_mse: 0.0036 - val_poisson: 0.0162\n",
      "Epoch 19/50\n",
      "2250/2250 [==============================] - 3s 1ms/sample - loss: 0.0152 - mse: 0.0060 - poisson: 0.0152 - val_loss: 0.0161 - val_mse: 0.0036 - val_poisson: 0.0161\n",
      "Epoch 20/50\n",
      "2250/2250 [==============================] - 3s 1ms/sample - loss: 0.0151 - mse: 0.0060 - poisson: 0.0151 - val_loss: 0.0160 - val_mse: 0.0036 - val_poisson: 0.0160\n",
      "Epoch 21/50\n",
      "2250/2250 [==============================] - 3s 1ms/sample - loss: 0.0150 - mse: 0.0060 - poisson: 0.0150 - val_loss: 0.0159 - val_mse: 0.0036 - val_poisson: 0.0159\n",
      "Epoch 22/50\n",
      "2250/2250 [==============================] - 3s 1ms/sample - loss: 0.0149 - mse: 0.0060 - poisson: 0.0149 - val_loss: 0.0158 - val_mse: 0.0036 - val_poisson: 0.0158\n",
      "Epoch 23/50\n",
      "2250/2250 [==============================] - 3s 1ms/sample - loss: 0.0149 - mse: 0.0060 - poisson: 0.0149 - val_loss: 0.0158 - val_mse: 0.0036 - val_poisson: 0.0158\n",
      "Epoch 24/50\n",
      "2250/2250 [==============================] - 3s 1ms/sample - loss: 0.0148 - mse: 0.0060 - poisson: 0.0148 - val_loss: 0.0157 - val_mse: 0.0036 - val_poisson: 0.0157\n",
      "Epoch 25/50\n",
      "2250/2250 [==============================] - 3s 1ms/sample - loss: 0.0147 - mse: 0.0060 - poisson: 0.0147 - val_loss: 0.0156 - val_mse: 0.0036 - val_poisson: 0.0156\n",
      "Epoch 26/50\n",
      "2250/2250 [==============================] - 3s 1ms/sample - loss: 0.0147 - mse: 0.0060 - poisson: 0.0147 - val_loss: 0.0155 - val_mse: 0.0036 - val_poisson: 0.0155\n",
      "Epoch 27/50\n",
      "2250/2250 [==============================] - 3s 1ms/sample - loss: 0.0146 - mse: 0.0060 - poisson: 0.0146 - val_loss: 0.0154 - val_mse: 0.0036 - val_poisson: 0.0154\n",
      "Epoch 28/50\n",
      "2250/2250 [==============================] - 3s 1ms/sample - loss: 0.0145 - mse: 0.0059 - poisson: 0.0145 - val_loss: 0.0153 - val_mse: 0.0036 - val_poisson: 0.0153\n",
      "Epoch 29/50\n",
      "2250/2250 [==============================] - 3s 1ms/sample - loss: 0.0144 - mse: 0.0059 - poisson: 0.0144 - val_loss: 0.0152 - val_mse: 0.0036 - val_poisson: 0.0152\n",
      "Epoch 30/50\n",
      "2250/2250 [==============================] - 3s 1ms/sample - loss: 0.0143 - mse: 0.0059 - poisson: 0.0143 - val_loss: 0.0151 - val_mse: 0.0036 - val_poisson: 0.0151\n",
      "Epoch 31/50\n",
      "2250/2250 [==============================] - 3s 1ms/sample - loss: 0.0142 - mse: 0.0059 - poisson: 0.0142 - val_loss: 0.0150 - val_mse: 0.0036 - val_poisson: 0.0150\n",
      "Epoch 32/50\n",
      "2250/2250 [==============================] - 3s 1ms/sample - loss: 0.0141 - mse: 0.0059 - poisson: 0.0141 - val_loss: 0.0150 - val_mse: 0.0036 - val_poisson: 0.0150\n",
      "Epoch 33/50\n",
      "2250/2250 [==============================] - 3s 1ms/sample - loss: 0.0140 - mse: 0.0059 - poisson: 0.0140 - val_loss: 0.0149 - val_mse: 0.0036 - val_poisson: 0.0149\n",
      "Epoch 34/50\n",
      "2250/2250 [==============================] - 3s 1ms/sample - loss: 0.0139 - mse: 0.0059 - poisson: 0.0139 - val_loss: 0.0148 - val_mse: 0.0036 - val_poisson: 0.0148\n",
      "Epoch 35/50\n",
      "2250/2250 [==============================] - 3s 1ms/sample - loss: 0.0137 - mse: 0.0059 - poisson: 0.0137 - val_loss: 0.0148 - val_mse: 0.0036 - val_poisson: 0.0148\n",
      "Epoch 36/50\n",
      "2250/2250 [==============================] - 3s 1ms/sample - loss: 0.0136 - mse: 0.0059 - poisson: 0.0136 - val_loss: 0.0147 - val_mse: 0.0036 - val_poisson: 0.0147\n",
      "Epoch 37/50\n",
      "2250/2250 [==============================] - ETA: 0s - loss: 0.0134 - mse: 0.0059 - poisson: 0.013 - 3s 1ms/sample - loss: 0.0134 - mse: 0.0059 - poisson: 0.0134 - val_loss: 0.0146 - val_mse: 0.0036 - val_poisson: 0.0146\n",
      "Epoch 38/50\n",
      "2250/2250 [==============================] - 3s 1ms/sample - loss: 0.0133 - mse: 0.0059 - poisson: 0.0133 - val_loss: 0.0145 - val_mse: 0.0036 - val_poisson: 0.0145\n",
      "Epoch 39/50\n",
      "2250/2250 [==============================] - 3s 1ms/sample - loss: 0.0131 - mse: 0.0059 - poisson: 0.0131 - val_loss: 0.0144 - val_mse: 0.0036 - val_poisson: 0.0144\n",
      "Epoch 40/50\n",
      "2250/2250 [==============================] - 3s 1ms/sample - loss: 0.0130 - mse: 0.0059 - poisson: 0.0130 - val_loss: 0.0143 - val_mse: 0.0036 - val_poisson: 0.0143\n",
      "Epoch 41/50\n",
      "2250/2250 [==============================] - 4s 2ms/sample - loss: 0.0128 - mse: 0.0058 - poisson: 0.0128 - val_loss: 0.0141 - val_mse: 0.0036 - val_poisson: 0.0141\n",
      "Epoch 42/50\n",
      "2250/2250 [==============================] - 3s 1ms/sample - loss: 0.0127 - mse: 0.0058 - poisson: 0.0127 - val_loss: 0.0140 - val_mse: 0.0036 - val_poisson: 0.0140\n",
      "Epoch 43/50\n",
      "2250/2250 [==============================] - 3s 1ms/sample - loss: 0.0125 - mse: 0.0058 - poisson: 0.0125 - val_loss: 0.0139 - val_mse: 0.0036 - val_poisson: 0.0139\n",
      "Epoch 44/50\n",
      "2250/2250 [==============================] - 3s 1ms/sample - loss: 0.0124 - mse: 0.0058 - poisson: 0.0124 - val_loss: 0.0138 - val_mse: 0.0036 - val_poisson: 0.0138\n",
      "Epoch 45/50\n",
      "2250/2250 [==============================] - 3s 1ms/sample - loss: 0.0122 - mse: 0.0058 - poisson: 0.0122 - val_loss: 0.0136 - val_mse: 0.0036 - val_poisson: 0.0136\n",
      "Epoch 46/50\n",
      "2250/2250 [==============================] - 3s 1ms/sample - loss: 0.0121 - mse: 0.0058 - poisson: 0.0121 - val_loss: 0.0135 - val_mse: 0.0036 - val_poisson: 0.0135\n"
     ]
    },
    {
     "name": "stdout",
     "output_type": "stream",
     "text": [
      "Epoch 47/50\n",
      "2250/2250 [==============================] - 3s 1ms/sample - loss: 0.0119 - mse: 0.0058 - poisson: 0.0119 - val_loss: 0.0134 - val_mse: 0.0036 - val_poisson: 0.0134\n",
      "Epoch 48/50\n",
      "2250/2250 [==============================] - 3s 1ms/sample - loss: 0.0118 - mse: 0.0058 - poisson: 0.0118 - val_loss: 0.0133 - val_mse: 0.0035 - val_poisson: 0.0133\n",
      "Epoch 49/50\n",
      "2250/2250 [==============================] - 3s 1ms/sample - loss: 0.0116 - mse: 0.0058 - poisson: 0.0116 - val_loss: 0.0132 - val_mse: 0.0035 - val_poisson: 0.0132\n",
      "Epoch 50/50\n",
      "2250/2250 [==============================] - 3s 1ms/sample - loss: 0.0115 - mse: 0.0058 - poisson: 0.0115 - val_loss: 0.0131 - val_mse: 0.0035 - val_poisson: 0.0131\n"
     ]
    }
   ],
   "source": [
    "trn = ae_model.fit(training_patterns, training_patterns.reshape(2500, 60, NT), batch_size=4, epochs=50, validation_split=0.1)"
   ]
  },
  {
   "cell_type": "markdown",
   "metadata": {},
   "source": [
    "Examine the training &amp; validation losses vs epoch."
   ]
  },
  {
   "cell_type": "code",
   "execution_count": 50,
   "metadata": {},
   "outputs": [
    {
     "data": {
      "text/plain": [
       "Text(0, 0.5, 'Loss')"
      ]
     },
     "execution_count": 50,
     "metadata": {},
     "output_type": "execute_result"
    },
    {
     "data": {
      "image/png": "[encoded data removed]",
      "text/plain": [
       "<Figure size 432x288 with 1 Axes>"
      ]
     },
     "metadata": {
      "needs_background": "light"
     },
     "output_type": "display_data"
    }
   ],
   "source": [
    "plt.semilogy(trn.history['loss'], 'k--', label='training loss')\n",
    "plt.semilogy(trn.history['val_loss'], 'r--', label='validation loss')\n",
    "plt.grid()\n",
    "plt.legend()\n",
    "plt.xlabel('Epochs')\n",
    "plt.ylabel('Loss')"
   ]
  },
  {
   "cell_type": "markdown",
   "metadata": {},
   "source": [
    "This is a successful training run. Indeed, the validation loss is still going down so I probably could have kept on training for more epochs. Let's examine how well the network can restore an image by passing one of the patterns through the network. First the orginal image."
   ]
  },
  {
   "cell_type": "code",
   "execution_count": 67,
   "metadata": {},
   "outputs": [
    {
     "data": {
      "text/plain": [
       "<matplotlib.colorbar.Colorbar at 0x2a0b3896e08>"
      ]
     },
     "execution_count": 67,
     "metadata": {},
     "output_type": "execute_result"
    },
    {
     "data": {
      "image/png": "[encoded data removed]",
      "text/plain": [
       "<Figure size 432x432 with 2 Axes>"
      ]
     },
     "metadata": {
      "needs_background": "light"
     },
     "output_type": "display_data"
    }
   ],
   "source": [
    "fig = plt.figure(figsize=(6, 6))\n",
    "plt.imshow(training_patterns[111,:,:,0], cmap='binary', extent=(0, NT*50, 60, 0), aspect='auto')\n",
    "plt.grid()\n",
    "plt.xlabel('Time (ns)')\n",
    "plt.ylabel('DOM No on String')\n",
    "plt.colorbar()"
   ]
  },
  {
   "cell_type": "code",
   "execution_count": 68,
   "metadata": {},
   "outputs": [
    {
     "data": {
      "text/plain": [
       "<matplotlib.colorbar.Colorbar at 0x2a0b398bbc8>"
      ]
     },
     "execution_count": 68,
     "metadata": {},
     "output_type": "execute_result"
    },
    {
     "data": {
      "image/png": "[encoded data removed]",
      "text/plain": [
       "<Figure size 432x432 with 2 Axes>"
      ]
     },
     "metadata": {
      "needs_background": "light"
     },
     "output_type": "display_data"
    }
   ],
   "source": [
    "p = ae_model.predict(training_patterns[111:112]).reshape(60,NT)\n",
    "fig = plt.figure(figsize=(6, 6))\n",
    "plt.imshow(p, cmap='binary', extent=(0, 5000, 60, 0), aspect='auto')\n",
    "plt.grid()\n",
    "plt.xlabel('Time (ns)')\n",
    "plt.ylabel('DOM No on String')\n",
    "plt.colorbar()"
   ]
  },
  {
   "cell_type": "markdown",
   "metadata": {},
   "source": [
    "Not super great but it's a start."
   ]
  },
  {
   "cell_type": "code",
   "execution_count": null,
   "metadata": {},
   "outputs": [],
   "source": []
  }
 ],
 "metadata": {
  "kernelspec": {
   "display_name": "Python 3.7.4 64-bit ('tensorflow_gpuenv': conda)",
   "language": "python",
   "name": "python37464bittensorflowgpuenvconda99ec1dccdc424e8f8b8c2232dcec75d2"
  },
  "language_info": {
   "codemirror_mode": {
    "name": "ipython",
    "version": 3
   },
   "file_extension": ".py",
   "mimetype": "text/x-python",
   "name": "python",
   "nbconvert_exporter": "python",
   "pygments_lexer": "ipython3",
   "version": "3.7.7"
  }
 },
 "nbformat": 4,
 "nbformat_minor": 4
}
